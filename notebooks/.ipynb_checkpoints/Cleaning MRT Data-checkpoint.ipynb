{
 "cells": [
  {
   "cell_type": "code",
   "execution_count": 1,
   "metadata": {
    "collapsed": true
   },
   "outputs": [],
   "source": [
    "import pandas as pd\n",
    "import numpy as np\n",
    "import matplotlib.pyplot as plt"
   ]
  },
  {
   "cell_type": "code",
   "execution_count": 20,
   "metadata": {
    "collapsed": true
   },
   "outputs": [],
   "source": [
    "mrt_traffic_data = pd.read_csv(\"../data/efoi_data_raw.csv\")\n",
    "manila_weather_data = pd.read_csv(\"../data/file.csv\")\n",
    "mrt_breakdowns_data = pd.read_csv(\"../data/mrt_status.csv\")"
   ]
  },
  {
   "cell_type": "code",
   "execution_count": 21,
   "metadata": {
    "collapsed": false,
    "scrolled": true
   },
   "outputs": [
    {
     "data": {
      "text/html": [
       "<div>\n",
       "<style scoped>\n",
       "    .dataframe tbody tr th:only-of-type {\n",
       "        vertical-align: middle;\n",
       "    }\n",
       "\n",
       "    .dataframe tbody tr th {\n",
       "        vertical-align: top;\n",
       "    }\n",
       "\n",
       "    .dataframe thead th {\n",
       "        text-align: right;\n",
       "    }\n",
       "</style>\n",
       "<table border=\"1\" class=\"dataframe\">\n",
       "  <thead>\n",
       "    <tr style=\"text-align: right;\">\n",
       "      <th></th>\n",
       "      <th>Date</th>\n",
       "      <th>North Ave entry</th>\n",
       "      <th>North Ave exit</th>\n",
       "      <th>Quezon ave entry</th>\n",
       "      <th>Quezon ave exit</th>\n",
       "      <th>Gma Kamuning Entry</th>\n",
       "      <th>Gma Kamuning Exit</th>\n",
       "      <th>Cubao Entry</th>\n",
       "      <th>Cubao Exit</th>\n",
       "      <th>Santolan Entry</th>\n",
       "      <th>...</th>\n",
       "      <th>Buendia Entry</th>\n",
       "      <th>Buedia exit</th>\n",
       "      <th>Ayale Entry</th>\n",
       "      <th>Ayala Exit</th>\n",
       "      <th>Magallanes Entry</th>\n",
       "      <th>Magallanes Exit</th>\n",
       "      <th>Taft Entry</th>\n",
       "      <th>Taft Exit</th>\n",
       "      <th>Total entry</th>\n",
       "      <th>Total Exit</th>\n",
       "    </tr>\n",
       "  </thead>\n",
       "  <tbody>\n",
       "    <tr>\n",
       "      <th>102</th>\n",
       "      <td>04/13/17</td>\n",
       "      <td>NaN</td>\n",
       "      <td>NaN</td>\n",
       "      <td>NaN</td>\n",
       "      <td>NaN</td>\n",
       "      <td>NaN</td>\n",
       "      <td>NaN</td>\n",
       "      <td>NaN</td>\n",
       "      <td>NaN</td>\n",
       "      <td>NaN</td>\n",
       "      <td>...</td>\n",
       "      <td>NaN</td>\n",
       "      <td>NaN</td>\n",
       "      <td>NaN</td>\n",
       "      <td>NaN</td>\n",
       "      <td>NaN</td>\n",
       "      <td>NaN</td>\n",
       "      <td>NaN</td>\n",
       "      <td>NaN</td>\n",
       "      <td>NaN</td>\n",
       "      <td>NaN</td>\n",
       "    </tr>\n",
       "    <tr>\n",
       "      <th>103</th>\n",
       "      <td>04/14/17</td>\n",
       "      <td>NaN</td>\n",
       "      <td>NaN</td>\n",
       "      <td>NaN</td>\n",
       "      <td>NaN</td>\n",
       "      <td>NaN</td>\n",
       "      <td>NaN</td>\n",
       "      <td>NaN</td>\n",
       "      <td>NaN</td>\n",
       "      <td>NaN</td>\n",
       "      <td>...</td>\n",
       "      <td>NaN</td>\n",
       "      <td>NaN</td>\n",
       "      <td>NaN</td>\n",
       "      <td>NaN</td>\n",
       "      <td>NaN</td>\n",
       "      <td>NaN</td>\n",
       "      <td>NaN</td>\n",
       "      <td>NaN</td>\n",
       "      <td>NaN</td>\n",
       "      <td>NaN</td>\n",
       "    </tr>\n",
       "    <tr>\n",
       "      <th>104</th>\n",
       "      <td>04/15/17</td>\n",
       "      <td>NaN</td>\n",
       "      <td>NaN</td>\n",
       "      <td>NaN</td>\n",
       "      <td>NaN</td>\n",
       "      <td>NaN</td>\n",
       "      <td>NaN</td>\n",
       "      <td>NaN</td>\n",
       "      <td>NaN</td>\n",
       "      <td>NaN</td>\n",
       "      <td>...</td>\n",
       "      <td>NaN</td>\n",
       "      <td>NaN</td>\n",
       "      <td>NaN</td>\n",
       "      <td>NaN</td>\n",
       "      <td>NaN</td>\n",
       "      <td>NaN</td>\n",
       "      <td>NaN</td>\n",
       "      <td>NaN</td>\n",
       "      <td>NaN</td>\n",
       "      <td>NaN</td>\n",
       "    </tr>\n",
       "    <tr>\n",
       "      <th>105</th>\n",
       "      <td>04/16/17</td>\n",
       "      <td>NaN</td>\n",
       "      <td>NaN</td>\n",
       "      <td>NaN</td>\n",
       "      <td>NaN</td>\n",
       "      <td>NaN</td>\n",
       "      <td>NaN</td>\n",
       "      <td>NaN</td>\n",
       "      <td>NaN</td>\n",
       "      <td>NaN</td>\n",
       "      <td>...</td>\n",
       "      <td>NaN</td>\n",
       "      <td>NaN</td>\n",
       "      <td>NaN</td>\n",
       "      <td>NaN</td>\n",
       "      <td>NaN</td>\n",
       "      <td>NaN</td>\n",
       "      <td>NaN</td>\n",
       "      <td>NaN</td>\n",
       "      <td>NaN</td>\n",
       "      <td>NaN</td>\n",
       "    </tr>\n",
       "  </tbody>\n",
       "</table>\n",
       "<p>4 rows × 29 columns</p>\n",
       "</div>"
      ],
      "text/plain": [
       "         Date  North Ave entry  North Ave exit  Quezon ave entry  \\\n",
       "102  04/13/17              NaN             NaN               NaN   \n",
       "103  04/14/17              NaN             NaN               NaN   \n",
       "104  04/15/17              NaN             NaN               NaN   \n",
       "105  04/16/17              NaN             NaN               NaN   \n",
       "\n",
       "     Quezon ave exit  Gma Kamuning Entry  Gma Kamuning Exit  Cubao Entry  \\\n",
       "102              NaN                 NaN                NaN          NaN   \n",
       "103              NaN                 NaN                NaN          NaN   \n",
       "104              NaN                 NaN                NaN          NaN   \n",
       "105              NaN                 NaN                NaN          NaN   \n",
       "\n",
       "     Cubao Exit  Santolan Entry     ...      Buendia Entry  Buedia exit  \\\n",
       "102         NaN             NaN     ...                NaN          NaN   \n",
       "103         NaN             NaN     ...                NaN          NaN   \n",
       "104         NaN             NaN     ...                NaN          NaN   \n",
       "105         NaN             NaN     ...                NaN          NaN   \n",
       "\n",
       "     Ayale Entry  Ayala Exit  Magallanes Entry  Magallanes Exit  Taft Entry  \\\n",
       "102          NaN         NaN               NaN              NaN         NaN   \n",
       "103          NaN         NaN               NaN              NaN         NaN   \n",
       "104          NaN         NaN               NaN              NaN         NaN   \n",
       "105          NaN         NaN               NaN              NaN         NaN   \n",
       "\n",
       "     Taft Exit  Total entry  Total Exit  \n",
       "102        NaN          NaN         NaN  \n",
       "103        NaN          NaN         NaN  \n",
       "104        NaN          NaN         NaN  \n",
       "105        NaN          NaN         NaN  \n",
       "\n",
       "[4 rows x 29 columns]"
      ]
     },
     "execution_count": 21,
     "metadata": {},
     "output_type": "execute_result"
    }
   ],
   "source": [
    "# Clean and append missing data for mrt_traffic_data\n",
    "# Check which rows have missing data\n",
    "mrt_traffic_data[mrt_traffic_data.isnull().T.any().T]"
   ]
  },
  {
   "cell_type": "code",
   "execution_count": 22,
   "metadata": {
    "collapsed": true
   },
   "outputs": [],
   "source": [
    "# Since the missing data is for 4 consecutive days in the month of April(Thursday, Friday, Saturday and Sunday)\n",
    "# Imputation will be through the average of respective complete days for the month of april\n",
    "\n",
    "data = mrt_traffic_data.drop('Date', 1)\n",
    "\n",
    "april_thursday = [data[95:96].values, data[109:110].values, data[116:117].values]\n",
    "april_friday = [data[96:97].values, data[110:111].values, data[117:118].values]\n",
    "april_saturday = [data[90:91].values, data[97:98].values, data[111:112].values, data[118:119].values]\n",
    "april_sunday = [data[91:92].values, data[98:99].values, data[112:113].values, data[119:120].values] "
   ]
  },
  {
   "cell_type": "code",
   "execution_count": 23,
   "metadata": {
    "collapsed": true
   },
   "outputs": [],
   "source": [
    "#average the repective april days\n",
    "impute_04_13_17 = np.average(april_thursday, axis=0)\n",
    "impute_04_14_17 = np.average(april_friday, axis=0)\n",
    "impute_04_15_17 = np.average(april_saturday, axis=0)\n",
    "impute_04_16_17 = np.average(april_sunday, axis=0)\n",
    "\n",
    "#then impute them to the dataset\n",
    "data.loc[102:102] = impute_04_13_17\n",
    "data.loc[103:103] = impute_04_14_17\n",
    "data.loc[104:104] = impute_04_15_17\n",
    "data.loc[105:105] = impute_04_16_17"
   ]
  },
  {
   "cell_type": "code",
   "execution_count": 24,
   "metadata": {
    "collapsed": false,
    "scrolled": true
   },
   "outputs": [
    {
     "data": {
      "text/plain": [
       "False"
      ]
     },
     "execution_count": 24,
     "metadata": {},
     "output_type": "execute_result"
    }
   ],
   "source": [
    "# Check for null data\n",
    "data.isnull().values.any()"
   ]
  },
  {
   "cell_type": "code",
   "execution_count": 25,
   "metadata": {
    "collapsed": false
   },
   "outputs": [],
   "source": [
    "# insert the dates column again\n",
    "data.insert(0, \"date\", mrt_traffic_data[\"Date\"].values, allow_duplicates=False)\n",
    "mrt_traffic = data"
   ]
  },
  {
   "cell_type": "code",
   "execution_count": 38,
   "metadata": {
    "collapsed": false,
    "scrolled": true
   },
   "outputs": [],
   "source": [
    "# Get precipitation data from weather csv and insert to main dataframe\n",
    "mrt_traffic.insert(1, \"precip\", manila_weather_data[\"precip\"][:365].values, allow_duplicates=False)\n",
    "mrt_traffic.date = pd.to_datetime(mrt_traffic.date)"
   ]
  },
  {
   "cell_type": "code",
   "execution_count": 41,
   "metadata": {
    "collapsed": false,
    "scrolled": true
   },
   "outputs": [
    {
     "data": {
      "text/html": [
       "<div>\n",
       "<style scoped>\n",
       "    .dataframe tbody tr th:only-of-type {\n",
       "        vertical-align: middle;\n",
       "    }\n",
       "\n",
       "    .dataframe tbody tr th {\n",
       "        vertical-align: top;\n",
       "    }\n",
       "\n",
       "    .dataframe thead th {\n",
       "        text-align: right;\n",
       "    }\n",
       "</style>\n",
       "<table border=\"1\" class=\"dataframe\">\n",
       "  <thead>\n",
       "    <tr style=\"text-align: right;\">\n",
       "      <th></th>\n",
       "      <th>time</th>\n",
       "      <th>reason</th>\n",
       "      <th>dir</th>\n",
       "      <th>station</th>\n",
       "      <th>cat_type</th>\n",
       "      <th>day</th>\n",
       "    </tr>\n",
       "  </thead>\n",
       "  <tbody>\n",
       "    <tr>\n",
       "      <th>0</th>\n",
       "      <td>5:37 AM</td>\n",
       "      <td>Train unloaded passengers due to technical pro...</td>\n",
       "      <td>South Bound</td>\n",
       "      <td>Ortigas - Shaw Boulevard</td>\n",
       "      <td>CAT 3</td>\n",
       "      <td>January 10, 2018</td>\n",
       "    </tr>\n",
       "    <tr>\n",
       "      <th>1</th>\n",
       "      <td>8:19 AM</td>\n",
       "      <td>Train unloaded pax at Shaw Blvd Stn SB due to ...</td>\n",
       "      <td>South Bound</td>\n",
       "      <td>Shaw Boulevard</td>\n",
       "      <td>CAT 3</td>\n",
       "      <td>January 09, 2018</td>\n",
       "    </tr>\n",
       "    <tr>\n",
       "      <th>2</th>\n",
       "      <td>10:02 AM</td>\n",
       "      <td>Train unloaded pax at Shaw. Blvd. Stn NB due t...</td>\n",
       "      <td>North Bound</td>\n",
       "      <td>Shaw Boulevard</td>\n",
       "      <td>CAT 3</td>\n",
       "      <td>January 07, 2018</td>\n",
       "    </tr>\n",
       "    <tr>\n",
       "      <th>3</th>\n",
       "      <td>5:19 AM</td>\n",
       "      <td>Service interruption due to technical problem.</td>\n",
       "      <td>South Bound</td>\n",
       "      <td>North Avenue</td>\n",
       "      <td>CAT 4</td>\n",
       "      <td>January 06, 2018</td>\n",
       "    </tr>\n",
       "    <tr>\n",
       "      <th>4</th>\n",
       "      <td>6:07 AM</td>\n",
       "      <td>Normal operations resumed.</td>\n",
       "      <td>South Bound</td>\n",
       "      <td>North Avenue</td>\n",
       "      <td>CAT 1</td>\n",
       "      <td>January 05, 2018</td>\n",
       "    </tr>\n",
       "  </tbody>\n",
       "</table>\n",
       "</div>"
      ],
      "text/plain": [
       "       time                                             reason          dir  \\\n",
       "0   5:37 AM  Train unloaded passengers due to technical pro...  South Bound   \n",
       "1   8:19 AM  Train unloaded pax at Shaw Blvd Stn SB due to ...  South Bound   \n",
       "2  10:02 AM  Train unloaded pax at Shaw. Blvd. Stn NB due t...  North Bound   \n",
       "3   5:19 AM     Service interruption due to technical problem.  South Bound   \n",
       "4   6:07 AM                         Normal operations resumed.  South Bound   \n",
       "\n",
       "                    station cat_type               day  \n",
       "0  Ortigas - Shaw Boulevard    CAT 3  January 10, 2018  \n",
       "1            Shaw Boulevard    CAT 3  January 09, 2018  \n",
       "2            Shaw Boulevard    CAT 3  January 07, 2018  \n",
       "3              North Avenue    CAT 4  January 06, 2018  \n",
       "4              North Avenue    CAT 1  January 05, 2018  "
      ]
     },
     "execution_count": 41,
     "metadata": {},
     "output_type": "execute_result"
    }
   ],
   "source": [
    "mrt_breakdowns_data.head()"
   ]
  },
  {
   "cell_type": "code",
   "execution_count": 43,
   "metadata": {
    "collapsed": false,
    "scrolled": true
   },
   "outputs": [],
   "source": [
    "#for visualization time, reason, direction and station seem to be relevant data\n",
    "# day must be converted\n",
    "mrt_breakdowns_data.day = pd.to_datetime(mrt_breakdowns_data.day)\n"
   ]
  },
  {
   "cell_type": "code",
   "execution_count": 45,
   "metadata": {
    "collapsed": true
   },
   "outputs": [],
   "source": [
    "# Select only 2017\n",
    "mrt_breakdown_2017 = mrt_breakdowns_data[(mrt_breakdowns_data['day'] > '2017-1-1') & (mrt_breakdowns_data['day'] <= '2017-12-31')]"
   ]
  },
  {
   "cell_type": "code",
   "execution_count": 76,
   "metadata": {
    "collapsed": false,
    "scrolled": true
   },
   "outputs": [],
   "source": [
    "mrt_breakdown_2017 = mrt_breakdown_2017.rename(columns = {'day':'date'})"
   ]
  },
  {
   "cell_type": "code",
   "execution_count": 100,
   "metadata": {
    "collapsed": false
   },
   "outputs": [],
   "source": [
    "mrt_breakdown_2017.date = pd.to_datetime(mrt_breakdown_2017.date)\n",
    "mrt_traffic.date = pd.to_datetime(mrt_traffic.date)\n",
    "\n",
    "final_data = pd.merge( mrt_traffic,mrt_breakdown_2017, on='date', how=\"outer\")"
   ]
  },
  {
   "cell_type": "code",
   "execution_count": 101,
   "metadata": {
    "collapsed": false
   },
   "outputs": [],
   "source": [
    "# Heavy lifting is done, rest of data cleaning will be done through excel\n",
    "# Data analysis and exploration will be done in another notebook\n",
    "final_data.to_csv(\"mrt_data.csv\", index=False)"
   ]
  }
 ],
 "metadata": {
  "kernelspec": {
   "display_name": "Python 3",
   "language": "python",
   "name": "python3"
  },
  "language_info": {
   "codemirror_mode": {
    "name": "ipython",
    "version": 3
   },
   "file_extension": ".py",
   "mimetype": "text/x-python",
   "name": "python",
   "nbconvert_exporter": "python",
   "pygments_lexer": "ipython3",
   "version": "3.5.2"
  }
 },
 "nbformat": 4,
 "nbformat_minor": 2
}
